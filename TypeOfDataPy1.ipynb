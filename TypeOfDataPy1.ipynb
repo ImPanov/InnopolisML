{
 "cells": [
  {
   "cell_type": "code",
   "execution_count": 22,
   "id": "3ff9e06b-915a-4a39-a6b1-9fa4af1e59c1",
   "metadata": {
    "tags": []
   },
   "outputs": [
    {
     "name": "stdin",
     "output_type": "stream",
     "text": [
      "Пользовтель ввёл число  5\n"
     ]
    },
    {
     "name": "stdout",
     "output_type": "stream",
     "text": [
      "5 рублей\n"
     ]
    }
   ],
   "source": [
    "number = int(input(\"Пользовтель ввёл число \"))\n",
    "if (number % 100) % 10 == 1 or number % 10 > 4 or number % 10 == 0:\n",
    "    print(f'{number} рублей')\n",
    "elif number % 10 == 1:\n",
    "    print(f'{number} рубль')\n",
    "else:\n",
    "    print(f'{number} рубля')"
   ]
  }
 ],
 "metadata": {
  "kernelspec": {
   "display_name": "Python 3 (ipykernel)",
   "language": "python",
   "name": "python3"
  },
  "language_info": {
   "codemirror_mode": {
    "name": "ipython",
    "version": 3
   },
   "file_extension": ".py",
   "mimetype": "text/x-python",
   "name": "python",
   "nbconvert_exporter": "python",
   "pygments_lexer": "ipython3",
   "version": "3.11.5"
  }
 },
 "nbformat": 4,
 "nbformat_minor": 5
}
