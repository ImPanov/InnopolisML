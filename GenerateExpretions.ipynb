{
 "cells": [
  {
   "cell_type": "code",
   "execution_count": 3,
   "id": "5fd059e4-e575-4005-96e4-88baf1ecf860",
   "metadata": {
    "tags": []
   },
   "outputs": [
    {
     "name": "stdout",
     "output_type": "stream",
     "text": [
      "1   Алиса\n",
      "2   Дмитрий\n",
      "3   Евгения\n",
      "4   Иван\n",
      "5   Ли\n",
      "6   Ольга\n",
      "7   Петр\n"
     ]
    }
   ],
   "source": [
    "names = ['Иван', 'Алиса', 'Петр', 'Ольга', 'Евгения', 'Дмитрий', 'Ли']\n",
    "names.sort()\n",
    "for i,value in enumerate(names):\n",
    "    print(i+1,\" \",value)"
   ]
  }
 ],
 "metadata": {
  "kernelspec": {
   "display_name": "Python 3 (ipykernel)",
   "language": "python",
   "name": "python3"
  },
  "language_info": {
   "codemirror_mode": {
    "name": "ipython",
    "version": 3
   },
   "file_extension": ".py",
   "mimetype": "text/x-python",
   "name": "python",
   "nbconvert_exporter": "python",
   "pygments_lexer": "ipython3",
   "version": "3.12.0"
  }
 },
 "nbformat": 4,
 "nbformat_minor": 5
}
