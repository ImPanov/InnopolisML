{
 "cells": [
  {
   "cell_type": "code",
   "execution_count": 4,
   "id": "eb3d46b8-8837-414f-8489-172922cd025f",
   "metadata": {
    "tags": []
   },
   "outputs": [],
   "source": [
    "def customMatch(stringArray):\n",
    "    for i in stringArray:\n",
    "        if i.lower()==\"save\":\n",
    "            print(\"Сохранить\")\n",
    "        elif i.lower()==\"load\":\n",
    "            print(\"Загрузить\")\n",
    "        else:\n",
    "            print(\"Неизвестная операция\")"
   ]
  },
  {
   "cell_type": "code",
   "execution_count": null,
   "id": "90218abb-ffe0-4210-93ed-1a499c1958e5",
   "metadata": {},
   "outputs": [],
   "source": []
  }
 ],
 "metadata": {
  "kernelspec": {
   "display_name": "Python 3 (ipykernel)",
   "language": "python",
   "name": "python3"
  },
  "language_info": {
   "codemirror_mode": {
    "name": "ipython",
    "version": 3
   },
   "file_extension": ".py",
   "mimetype": "text/x-python",
   "name": "python",
   "nbconvert_exporter": "python",
   "pygments_lexer": "ipython3",
   "version": "3.11.5"
  }
 },
 "nbformat": 4,
 "nbformat_minor": 5
}
