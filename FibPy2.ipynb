{
 "cells": [
  {
   "cell_type": "code",
   "execution_count": null,
   "id": "8f165041-b87b-4d10-817b-8ba1c2907044",
   "metadata": {
    "tags": []
   },
   "outputs": [],
   "source": [
    "\n",
    "fib1 = fib2 = 1\n",
    "n = int(int(input())) - 2\n",
    " \n",
    "while n > 0:\n",
    "    fib1, fib2 = fib2, fib1 + fib2\n",
    "    n -= 1\n",
    "print(fib2)"
   ]
  },
  {
   "cell_type": "markdown",
   "id": "3b478481-21d7-46b6-b2be-edc68618b374",
   "metadata": {},
   "source": []
  }
 ],
 "metadata": {
  "kernelspec": {
   "display_name": "Python 3 (ipykernel)",
   "language": "python",
   "name": "python3"
  },
  "language_info": {
   "codemirror_mode": {
    "name": "ipython",
    "version": 3
   },
   "file_extension": ".py",
   "mimetype": "text/x-python",
   "name": "python",
   "nbconvert_exporter": "python",
   "pygments_lexer": "ipython3",
   "version": "3.11.5"
  }
 },
 "nbformat": 4,
 "nbformat_minor": 5
}
