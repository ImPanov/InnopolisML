{
 "cells": [
  {
   "cell_type": "code",
   "execution_count": 1,
   "id": "5fd059e4-e575-4005-96e4-88baf1ecf860",
   "metadata": {
    "tags": []
   },
   "outputs": [
    {
     "name": "stdout",
     "output_type": "stream",
     "text": [
      "[(4, 16), (2, 4), (6, 36), (7, 49), (3, 9), (5, 25)]\n"
     ]
    }
   ],
   "source": [
    "def listToListOfTurple(array):\n",
    "    return [(i,i**2) for i in array]\n",
    "print(listToListOfTurple([4,2,6,7,3,5]))"
   ]
  }
 ],
 "metadata": {
  "kernelspec": {
   "display_name": "Python 3 (ipykernel)",
   "language": "python",
   "name": "python3"
  },
  "language_info": {
   "codemirror_mode": {
    "name": "ipython",
    "version": 3
   },
   "file_extension": ".py",
   "mimetype": "text/x-python",
   "name": "python",
   "nbconvert_exporter": "python",
   "pygments_lexer": "ipython3",
   "version": "3.11.5"
  }
 },
 "nbformat": 4,
 "nbformat_minor": 5
}
