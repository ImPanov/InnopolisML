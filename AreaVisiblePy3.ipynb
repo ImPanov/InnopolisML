{
 "cells": [
  {
   "cell_type": "code",
   "execution_count": null,
   "id": "8db78696-c683-433a-9377-313f43754306",
   "metadata": {
    "tags": []
   },
   "outputs": [],
   "source": [
    "a = 4\n",
    "def addGlobal(parametr):\n",
    "    local = int(input())\n",
    "    number = 5\n",
    "    return local + parametr + number + a\n",
    "addGlobal(6)\n"
   ]
  },
  {
   "cell_type": "code",
   "execution_count": null,
   "id": "072875ea-8e73-4619-b634-0dbe32401d3e",
   "metadata": {},
   "outputs": [],
   "source": []
  }
 ],
 "metadata": {
  "kernelspec": {
   "display_name": "Python 3 (ipykernel)",
   "language": "python",
   "name": "python3"
  },
  "language_info": {
   "codemirror_mode": {
    "name": "ipython",
    "version": 3
   },
   "file_extension": ".py",
   "mimetype": "text/x-python",
   "name": "python",
   "nbconvert_exporter": "python",
   "pygments_lexer": "ipython3",
   "version": "3.11.5"
  }
 },
 "nbformat": 4,
 "nbformat_minor": 5
}
